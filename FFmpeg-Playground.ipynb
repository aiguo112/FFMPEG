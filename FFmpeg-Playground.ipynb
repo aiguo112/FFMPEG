{
 "cells": [
  {
   "cell_type": "code",
   "execution_count": 14,
   "id": "742ccd01",
   "metadata": {},
   "outputs": [],
   "source": [
    "import subprocess\n",
    "\n"
   ]
  },
  {
   "cell_type": "markdown",
   "id": "cc5803a6",
   "metadata": {},
   "source": [
    "# Basic Video Conversion\n"
   ]
  },
  {
   "cell_type": "code",
   "execution_count": 16,
   "id": "0d0208bd",
   "metadata": {},
   "outputs": [],
   "source": [
    "def basic_video_conversion(input_filename, output_filename):\n",
    "    command = ['ffmpeg', '-i', input_filename, output_filename]\n",
    "    subprocess.run(command)"
   ]
  },
  {
   "cell_type": "markdown",
   "id": "02f46658",
   "metadata": {},
   "source": [
    "# Video Splitting"
   ]
  },
  {
   "cell_type": "code",
   "execution_count": 17,
   "id": "be9da672",
   "metadata": {},
   "outputs": [],
   "source": [
    "def video_splitting(input_filename, output_filename, start_time, duration):\n",
    "    command = ['ffmpeg', '-i', input_filename, '-ss', start_time, '-t', duration, output_filename]\n",
    "    subprocess.run(command)\n"
   ]
  },
  {
   "cell_type": "markdown",
   "id": "e65ad292",
   "metadata": {},
   "source": [
    "# Video Concatenation"
   ]
  },
  {
   "cell_type": "code",
   "execution_count": 18,
   "id": "1692205a",
   "metadata": {},
   "outputs": [],
   "source": [
    "def video_concatenation(input1_filename, input2_filename, output_filename):\n",
    "    command = ['ffmpeg', '-i', input1_filename, '-i', input2_filename, '-filter_complex',\n",
    "               '[0:v][0:a][1:v][1:a]concat=n=2:v=1:a=1[v][a]', '-map', '[v]', '-map', '[a]', output_filename]\n",
    "    subprocess.run(command)\n",
    "\n"
   ]
  },
  {
   "cell_type": "markdown",
   "id": "fca498b3",
   "metadata": {},
   "source": [
    "# Frame Extraction"
   ]
  },
  {
   "cell_type": "code",
   "execution_count": 19,
   "id": "a64a8a7c",
   "metadata": {},
   "outputs": [],
   "source": [
    "def frame_extraction(input_filename, output_filename_pattern, frame_rate):\n",
    "    command = ['ffmpeg', '-i', input_filename, '-vf', f'select=not(mod(n\\,{frame_rate}))', '-vsync', 'vfr', output_filename_pattern]\n",
    "    subprocess.run(command)\n"
   ]
  },
  {
   "cell_type": "markdown",
   "id": "447c15bf",
   "metadata": {},
   "source": [
    "# Audio Extraction"
   ]
  },
  {
   "cell_type": "code",
   "execution_count": 20,
   "id": "0291acfa",
   "metadata": {},
   "outputs": [],
   "source": [
    "def audio_extraction(input_filename, output_filename):\n",
    "    command = ['ffmpeg', '-i', input_filename, '-q:a', '0', '-map', 'a', output_filename]\n",
    "    subprocess.run(command)\n"
   ]
  },
  {
   "cell_type": "markdown",
   "id": "cc7432a5",
   "metadata": {},
   "source": [
    "# Filter Effects (Adding Sepia Effect)"
   ]
  },
  {
   "cell_type": "code",
   "execution_count": 21,
   "id": "01119d75",
   "metadata": {},
   "outputs": [],
   "source": [
    "def apply_sepia_effect(input_filename, output_filename, filter_expression):\n",
    "    command = ['ffmpeg', '-i', input_filename, '-vf', filter_expression, output_filename]\n",
    "    subprocess.run(command)"
   ]
  },
  {
   "cell_type": "markdown",
   "id": "9eae8526",
   "metadata": {},
   "source": [
    "# Combine Frames "
   ]
  },
  {
   "cell_type": "code",
   "execution_count": null,
   "id": "adc159fb",
   "metadata": {},
   "outputs": [],
   "source": [
    "mport os\n",
    "\n",
    "def crop_images(input_folder, output_folder, width, height):\n",
    "    for filename in os.listdir(input_folder):\n",
    "        input_path = os.path.join(input_folder, filename)\n",
    "        output_path = os.path.join(output_folder, filename)\n",
    "        os.system(f\"ffmpeg -i {input_path} -vf \\\"crop={width}:{height}:0:0\\\" {output_path}\")\n",
    "\n",
    "input_folder = \"Frames\"\n",
    "output_folder = \"Frames/output\"\n",
    "width = 1920\n",
    "height = 960\n",
    "\n",
    "crop_images(input_folder, output_folder, width, height)\n"
   ]
  },
  {
   "cell_type": "markdown",
   "id": "4c071f2e",
   "metadata": {},
   "source": [
    "# MKV to MP4 Converter with Audio Removal."
   ]
  },
  {
   "cell_type": "code",
   "execution_count": 22,
   "id": "34b925a6",
   "metadata": {},
   "outputs": [],
   "source": [
    "# Required imports\n",
    "import glob\n",
    "import os\n",
    "import time\n",
    "import ffmpeg as stream\n",
    "\n",
    "# Directory path of input video files\n",
    "dir_name = ''\n",
    "\n",
    "# Get a sorted list of all files in the directory and subdirectories\n",
    "list_of_files = sorted(filter(os.path.isfile, glob.glob(dir_name + '/**/*', recursive=True)))\n",
    "\n",
    "# Loop through each file\n",
    "for file_path in list_of_files:\n",
    "    # Check if the file is an MKV video\n",
    "    if file_path.endswith(\".mkv\"):\n",
    "        # Extract directory path and filename without extension\n",
    "        head, tail = os.path.split(file_path)\n",
    "        \n",
    "        # Generate a filename without audio indicator\n",
    "        no_audio = tail.replace('.mkv', '_na')\n",
    "        \n",
    "        # Check if the directory for no-audio files exists\n",
    "        if not os.path.exists(head + no_audio):\n",
    "            # Create the directory if it doesn't exist\n",
    "            os.makedirs(head + no_audio)\n",
    "            \n",
    "            # Measure time for video conversion\n",
    "            start_time = time.time()\n",
    "            \n",
    "            # Construct FFmpeg command for video conversion\n",
    "            command = (\n",
    "                r\"C:\\ffmpeg\\bin\\ffmpeg.exe -i \" + os.path.join(head, tail) +\n",
    "                \" -vcodec h264_nvenc -c copy -an -crf 18 \" +\n",
    "                os.path.join(head + no_audio, f\"{no_audio}_no_audio.mp4\")\n",
    "            )\n",
    "            \n",
    "            # Execute the FFmpeg command using os.system\n",
    "            os.system(command)\n",
    "            \n",
    "            # Print the time taken for the conversion\n",
    "            print(\"--- %s seconds ---\" % (time.time() - start_time))\n"
   ]
  },
  {
   "cell_type": "markdown",
   "id": "a547c6ad",
   "metadata": {},
   "source": [
    "# Video Segmentation and Compression Tool with FFmpeg."
   ]
  },
  {
   "cell_type": "code",
   "execution_count": null,
   "id": "9943f7d7",
   "metadata": {},
   "outputs": [],
   "source": [
    "import subprocess\n",
    "\n",
    "# Set the input and output filenames\n",
    "input_filename = 'output.mp4'\n",
    "output_filename = 'output%03d.mp4'\n",
    "segment_time=\"1\"\n",
    "crf=\"23\"\n",
    "\n",
    "# Set the FFmpeg command\n",
    "command = ['ffmpeg',\n",
    "           '-i', input_filename,\n",
    "           '-c:v', 'libx264',\n",
    "           '-crf', crf,\n",
    "           '-preset', 'veryfast',\n",
    "           '-tune', 'fastdecode',\n",
    "           '-movflags', '+faststart',\n",
    "           '-f', 'segment',\n",
    "           '-segment_time', segment_time,\n",
    "           '-reset_timestamps', '1',\n",
    "           '-force_key_frames', f'expr:gte(t,n_forced*{segment_time})',\n",
    "           output_filename]\n",
    "\n",
    "# Run the command\n",
    "subprocess.run(command)\n"
   ]
  },
  {
   "cell_type": "markdown",
   "id": "51d2368a",
   "metadata": {},
   "source": [
    "# Video Tiling and Cropping Tool using FFmpeg."
   ]
  },
  {
   "cell_type": "code",
   "execution_count": null,
   "id": "2333949e",
   "metadata": {},
   "outputs": [],
   "source": [
    "import subprocess\n",
    "\n",
    "# Define the input and output file names\n",
    "input_file = \"test.mp4\"\n",
    "output_prefix = \"Tile\"\n",
    "\n",
    "# Define the number of rows and columns to split the video into\n",
    "rows = 3\n",
    "cols = 3\n",
    "\n",
    "# Generate the output file names\n",
    "output_files = [f\"{output_prefix}{i+1}.mp4\" for i in range(rows*cols)]\n",
    "\n",
    "# Generate the crop filter options\n",
    "crop_filters = []\n",
    "for row in range(rows):\n",
    "    for col in range(cols):\n",
    "        crop_filters.append(f\"[0:v]crop=1/{cols}*in_w:1/{rows}*in_h:{col}/{cols}*in_w:{row}/{rows}*in_h[out{row*cols+col+1}]\")\n",
    "crop_filter_string = \";\".join(crop_filters)\n",
    "\n",
    "# Generate the -map options\n",
    "map_options = []\n",
    "for i, output_file in enumerate(output_files):\n",
    "    map_options.extend([\"-map\", f\"[out{i+1}]\", output_file])\n",
    "\n",
    "# Define the ffmpeg command\n",
    "command = [\n",
    "    \"ffmpeg\",\n",
    "    \"-i\", input_file,\n",
    "    \"-filter_complex\", crop_filter_string,\n",
    "] + map_options\n",
    "\n",
    "# Run the command\n",
    "subprocess.run(command)"
   ]
  }
 ],
 "metadata": {
  "kernelspec": {
   "display_name": "Python 3 (ipykernel)",
   "language": "python",
   "name": "python3"
  },
  "language_info": {
   "codemirror_mode": {
    "name": "ipython",
    "version": 3
   },
   "file_extension": ".py",
   "mimetype": "text/x-python",
   "name": "python",
   "nbconvert_exporter": "python",
   "pygments_lexer": "ipython3",
   "version": "3.10.9"
  }
 },
 "nbformat": 4,
 "nbformat_minor": 5
}
